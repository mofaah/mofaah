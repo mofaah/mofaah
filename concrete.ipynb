{
  "nbformat": 4,
  "nbformat_minor": 0,
  "metadata": {
    "colab": {
      "name": "concrete.ipynb",
      "provenance": [],
      "collapsed_sections": [],
      "mount_file_id": "1eiKgw1GB-VR2pgiL_rUKfruqv03SgeI1",
      "authorship_tag": "ABX9TyPXvHdALzcY6dMNBiztWTYo",
      "include_colab_link": true
    },
    "kernelspec": {
      "name": "python3",
      "display_name": "Python 3"
    },
    "language_info": {
      "name": "python"
    }
  },
  "cells": [
    {
      "cell_type": "markdown",
      "metadata": {
        "id": "view-in-github",
        "colab_type": "text"
      },
      "source": [
        "<a href=\"https://colab.research.google.com/github/mofaah/mofaah/blob/main/concrete.ipynb\" target=\"_parent\"><img src=\"https://colab.research.google.com/assets/colab-badge.svg\" alt=\"Open In Colab\"/></a>"
      ]
    },
    {
      "cell_type": "code",
      "metadata": {
        "id": "zLNYmPi1c3WN"
      },
      "source": [
        "import pandas as pd\n",
        "import numpy as np\n",
        "import matplotlib.pyplot as plt\n",
        "from sklearn.model_selection import GridSearchCV\n",
        "from sklearn.model_selection import RandomizedSearchCV\n",
        "from sklearn.ensemble import RandomForestRegressor\n",
        "from sklearn.preprocessing import MinMaxScaler\n",
        "from sklearn.model_selection import train_test_split\n"
      ],
      "execution_count": 42,
      "outputs": []
    },
    {
      "cell_type": "code",
      "metadata": {
        "colab": {
          "base_uri": "https://localhost:8080/",
          "height": 379
        },
        "id": "FolzjjihdS1W",
        "outputId": "969af89c-e422-4470-e189-707c5180ead2"
      },
      "source": [
        "c = pd.read_csv('/content/drive/MyDrive/concrete_data.csv')\n",
        "c.head(10)"
      ],
      "execution_count": 36,
      "outputs": [
        {
          "output_type": "execute_result",
          "data": {
            "text/html": [
              "<div>\n",
              "<style scoped>\n",
              "    .dataframe tbody tr th:only-of-type {\n",
              "        vertical-align: middle;\n",
              "    }\n",
              "\n",
              "    .dataframe tbody tr th {\n",
              "        vertical-align: top;\n",
              "    }\n",
              "\n",
              "    .dataframe thead th {\n",
              "        text-align: right;\n",
              "    }\n",
              "</style>\n",
              "<table border=\"1\" class=\"dataframe\">\n",
              "  <thead>\n",
              "    <tr style=\"text-align: right;\">\n",
              "      <th></th>\n",
              "      <th>cement</th>\n",
              "      <th>blast_furnace_slag</th>\n",
              "      <th>fly_ash</th>\n",
              "      <th>water</th>\n",
              "      <th>superplasticizer</th>\n",
              "      <th>coarse_aggregate</th>\n",
              "      <th>fine_aggregate</th>\n",
              "      <th>age</th>\n",
              "      <th>concrete_compressive_strength</th>\n",
              "    </tr>\n",
              "  </thead>\n",
              "  <tbody>\n",
              "    <tr>\n",
              "      <th>0</th>\n",
              "      <td>540.0</td>\n",
              "      <td>0.0</td>\n",
              "      <td>0.0</td>\n",
              "      <td>162.0</td>\n",
              "      <td>2.5</td>\n",
              "      <td>1040.0</td>\n",
              "      <td>676.0</td>\n",
              "      <td>28</td>\n",
              "      <td>79.99</td>\n",
              "    </tr>\n",
              "    <tr>\n",
              "      <th>1</th>\n",
              "      <td>540.0</td>\n",
              "      <td>0.0</td>\n",
              "      <td>0.0</td>\n",
              "      <td>162.0</td>\n",
              "      <td>2.5</td>\n",
              "      <td>1055.0</td>\n",
              "      <td>676.0</td>\n",
              "      <td>28</td>\n",
              "      <td>61.89</td>\n",
              "    </tr>\n",
              "    <tr>\n",
              "      <th>2</th>\n",
              "      <td>332.5</td>\n",
              "      <td>142.5</td>\n",
              "      <td>0.0</td>\n",
              "      <td>228.0</td>\n",
              "      <td>0.0</td>\n",
              "      <td>932.0</td>\n",
              "      <td>594.0</td>\n",
              "      <td>270</td>\n",
              "      <td>40.27</td>\n",
              "    </tr>\n",
              "    <tr>\n",
              "      <th>3</th>\n",
              "      <td>332.5</td>\n",
              "      <td>142.5</td>\n",
              "      <td>0.0</td>\n",
              "      <td>228.0</td>\n",
              "      <td>0.0</td>\n",
              "      <td>932.0</td>\n",
              "      <td>594.0</td>\n",
              "      <td>365</td>\n",
              "      <td>41.05</td>\n",
              "    </tr>\n",
              "    <tr>\n",
              "      <th>4</th>\n",
              "      <td>198.6</td>\n",
              "      <td>132.4</td>\n",
              "      <td>0.0</td>\n",
              "      <td>192.0</td>\n",
              "      <td>0.0</td>\n",
              "      <td>978.4</td>\n",
              "      <td>825.5</td>\n",
              "      <td>360</td>\n",
              "      <td>44.30</td>\n",
              "    </tr>\n",
              "    <tr>\n",
              "      <th>5</th>\n",
              "      <td>266.0</td>\n",
              "      <td>114.0</td>\n",
              "      <td>0.0</td>\n",
              "      <td>228.0</td>\n",
              "      <td>0.0</td>\n",
              "      <td>932.0</td>\n",
              "      <td>670.0</td>\n",
              "      <td>90</td>\n",
              "      <td>47.03</td>\n",
              "    </tr>\n",
              "    <tr>\n",
              "      <th>6</th>\n",
              "      <td>380.0</td>\n",
              "      <td>95.0</td>\n",
              "      <td>0.0</td>\n",
              "      <td>228.0</td>\n",
              "      <td>0.0</td>\n",
              "      <td>932.0</td>\n",
              "      <td>594.0</td>\n",
              "      <td>365</td>\n",
              "      <td>43.70</td>\n",
              "    </tr>\n",
              "    <tr>\n",
              "      <th>7</th>\n",
              "      <td>380.0</td>\n",
              "      <td>95.0</td>\n",
              "      <td>0.0</td>\n",
              "      <td>228.0</td>\n",
              "      <td>0.0</td>\n",
              "      <td>932.0</td>\n",
              "      <td>594.0</td>\n",
              "      <td>28</td>\n",
              "      <td>36.45</td>\n",
              "    </tr>\n",
              "    <tr>\n",
              "      <th>8</th>\n",
              "      <td>266.0</td>\n",
              "      <td>114.0</td>\n",
              "      <td>0.0</td>\n",
              "      <td>228.0</td>\n",
              "      <td>0.0</td>\n",
              "      <td>932.0</td>\n",
              "      <td>670.0</td>\n",
              "      <td>28</td>\n",
              "      <td>45.85</td>\n",
              "    </tr>\n",
              "    <tr>\n",
              "      <th>9</th>\n",
              "      <td>475.0</td>\n",
              "      <td>0.0</td>\n",
              "      <td>0.0</td>\n",
              "      <td>228.0</td>\n",
              "      <td>0.0</td>\n",
              "      <td>932.0</td>\n",
              "      <td>594.0</td>\n",
              "      <td>28</td>\n",
              "      <td>39.29</td>\n",
              "    </tr>\n",
              "  </tbody>\n",
              "</table>\n",
              "</div>"
            ],
            "text/plain": [
              "   cement  blast_furnace_slag  ...  age  concrete_compressive_strength\n",
              "0   540.0                 0.0  ...   28                          79.99\n",
              "1   540.0                 0.0  ...   28                          61.89\n",
              "2   332.5               142.5  ...  270                          40.27\n",
              "3   332.5               142.5  ...  365                          41.05\n",
              "4   198.6               132.4  ...  360                          44.30\n",
              "5   266.0               114.0  ...   90                          47.03\n",
              "6   380.0                95.0  ...  365                          43.70\n",
              "7   380.0                95.0  ...   28                          36.45\n",
              "8   266.0               114.0  ...   28                          45.85\n",
              "9   475.0                 0.0  ...   28                          39.29\n",
              "\n",
              "[10 rows x 9 columns]"
            ]
          },
          "metadata": {
            "tags": []
          },
          "execution_count": 36
        }
      ]
    },
    {
      "cell_type": "code",
      "metadata": {
        "colab": {
          "base_uri": "https://localhost:8080/",
          "height": 348
        },
        "id": "klGkeN9OdgNL",
        "outputId": "75ceada9-f975-41d9-aef4-1765b5aa65d9"
      },
      "source": [
        "c.corr()"
      ],
      "execution_count": 103,
      "outputs": [
        {
          "output_type": "execute_result",
          "data": {
            "text/html": [
              "<div>\n",
              "<style scoped>\n",
              "    .dataframe tbody tr th:only-of-type {\n",
              "        vertical-align: middle;\n",
              "    }\n",
              "\n",
              "    .dataframe tbody tr th {\n",
              "        vertical-align: top;\n",
              "    }\n",
              "\n",
              "    .dataframe thead th {\n",
              "        text-align: right;\n",
              "    }\n",
              "</style>\n",
              "<table border=\"1\" class=\"dataframe\">\n",
              "  <thead>\n",
              "    <tr style=\"text-align: right;\">\n",
              "      <th></th>\n",
              "      <th>cement</th>\n",
              "      <th>blast_furnace_slag</th>\n",
              "      <th>fly_ash</th>\n",
              "      <th>water</th>\n",
              "      <th>superplasticizer</th>\n",
              "      <th>coarse_aggregate</th>\n",
              "      <th>fine_aggregate</th>\n",
              "      <th>age</th>\n",
              "      <th>concrete_compressive_strength</th>\n",
              "    </tr>\n",
              "  </thead>\n",
              "  <tbody>\n",
              "    <tr>\n",
              "      <th>cement</th>\n",
              "      <td>1.000000</td>\n",
              "      <td>-0.275216</td>\n",
              "      <td>-0.397467</td>\n",
              "      <td>-0.081587</td>\n",
              "      <td>0.092386</td>\n",
              "      <td>-0.109349</td>\n",
              "      <td>-0.222718</td>\n",
              "      <td>0.081946</td>\n",
              "      <td>0.497832</td>\n",
              "    </tr>\n",
              "    <tr>\n",
              "      <th>blast_furnace_slag</th>\n",
              "      <td>-0.275216</td>\n",
              "      <td>1.000000</td>\n",
              "      <td>-0.323580</td>\n",
              "      <td>0.107252</td>\n",
              "      <td>0.043270</td>\n",
              "      <td>-0.283999</td>\n",
              "      <td>-0.281603</td>\n",
              "      <td>-0.044246</td>\n",
              "      <td>0.134829</td>\n",
              "    </tr>\n",
              "    <tr>\n",
              "      <th>fly_ash</th>\n",
              "      <td>-0.397467</td>\n",
              "      <td>-0.323580</td>\n",
              "      <td>1.000000</td>\n",
              "      <td>-0.256984</td>\n",
              "      <td>0.377503</td>\n",
              "      <td>-0.009961</td>\n",
              "      <td>0.079108</td>\n",
              "      <td>-0.154371</td>\n",
              "      <td>-0.105755</td>\n",
              "    </tr>\n",
              "    <tr>\n",
              "      <th>water</th>\n",
              "      <td>-0.081587</td>\n",
              "      <td>0.107252</td>\n",
              "      <td>-0.256984</td>\n",
              "      <td>1.000000</td>\n",
              "      <td>-0.657533</td>\n",
              "      <td>-0.182294</td>\n",
              "      <td>-0.450661</td>\n",
              "      <td>0.277618</td>\n",
              "      <td>-0.289633</td>\n",
              "    </tr>\n",
              "    <tr>\n",
              "      <th>superplasticizer</th>\n",
              "      <td>0.092386</td>\n",
              "      <td>0.043270</td>\n",
              "      <td>0.377503</td>\n",
              "      <td>-0.657533</td>\n",
              "      <td>1.000000</td>\n",
              "      <td>-0.265999</td>\n",
              "      <td>0.222691</td>\n",
              "      <td>-0.192700</td>\n",
              "      <td>0.366079</td>\n",
              "    </tr>\n",
              "    <tr>\n",
              "      <th>coarse_aggregate</th>\n",
              "      <td>-0.109349</td>\n",
              "      <td>-0.283999</td>\n",
              "      <td>-0.009961</td>\n",
              "      <td>-0.182294</td>\n",
              "      <td>-0.265999</td>\n",
              "      <td>1.000000</td>\n",
              "      <td>-0.178481</td>\n",
              "      <td>-0.003016</td>\n",
              "      <td>-0.164935</td>\n",
              "    </tr>\n",
              "    <tr>\n",
              "      <th>fine_aggregate</th>\n",
              "      <td>-0.222718</td>\n",
              "      <td>-0.281603</td>\n",
              "      <td>0.079108</td>\n",
              "      <td>-0.450661</td>\n",
              "      <td>0.222691</td>\n",
              "      <td>-0.178481</td>\n",
              "      <td>1.000000</td>\n",
              "      <td>-0.156095</td>\n",
              "      <td>-0.167241</td>\n",
              "    </tr>\n",
              "    <tr>\n",
              "      <th>age</th>\n",
              "      <td>0.081946</td>\n",
              "      <td>-0.044246</td>\n",
              "      <td>-0.154371</td>\n",
              "      <td>0.277618</td>\n",
              "      <td>-0.192700</td>\n",
              "      <td>-0.003016</td>\n",
              "      <td>-0.156095</td>\n",
              "      <td>1.000000</td>\n",
              "      <td>0.328873</td>\n",
              "    </tr>\n",
              "    <tr>\n",
              "      <th>concrete_compressive_strength</th>\n",
              "      <td>0.497832</td>\n",
              "      <td>0.134829</td>\n",
              "      <td>-0.105755</td>\n",
              "      <td>-0.289633</td>\n",
              "      <td>0.366079</td>\n",
              "      <td>-0.164935</td>\n",
              "      <td>-0.167241</td>\n",
              "      <td>0.328873</td>\n",
              "      <td>1.000000</td>\n",
              "    </tr>\n",
              "  </tbody>\n",
              "</table>\n",
              "</div>"
            ],
            "text/plain": [
              "                                 cement  ...  concrete_compressive_strength\n",
              "cement                         1.000000  ...                       0.497832\n",
              "blast_furnace_slag            -0.275216  ...                       0.134829\n",
              "fly_ash                       -0.397467  ...                      -0.105755\n",
              "water                         -0.081587  ...                      -0.289633\n",
              "superplasticizer               0.092386  ...                       0.366079\n",
              "coarse_aggregate              -0.109349  ...                      -0.164935\n",
              "fine_aggregate                -0.222718  ...                      -0.167241\n",
              "age                            0.081946  ...                       0.328873\n",
              "concrete_compressive_strength  0.497832  ...                       1.000000\n",
              "\n",
              "[9 rows x 9 columns]"
            ]
          },
          "metadata": {
            "tags": []
          },
          "execution_count": 103
        }
      ]
    },
    {
      "cell_type": "code",
      "metadata": {
        "colab": {
          "base_uri": "https://localhost:8080/",
          "height": 282
        },
        "id": "NDovddaed_jT",
        "outputId": "686c90bf-caef-4f63-ccfa-7ab4960d90ff"
      },
      "source": [
        "plt.scatter(c['cement'], c['concrete_compressive_strength'])"
      ],
      "execution_count": 104,
      "outputs": [
        {
          "output_type": "execute_result",
          "data": {
            "text/plain": [
              "<matplotlib.collections.PathCollection at 0x7f193b1494d0>"
            ]
          },
          "metadata": {
            "tags": []
          },
          "execution_count": 104
        },
        {
          "output_type": "display_data",
          "data": {
            "image/png": "[encoded data removed]",
            "text/plain": [
              "<Figure size 432x288 with 1 Axes>"
            ]
          },
          "metadata": {
            "tags": [],
            "needs_background": "light"
          }
        }
      ]
    },
    {
      "cell_type": "code",
      "metadata": {
        "colab": {
          "base_uri": "https://localhost:8080/"
        },
        "id": "r4_Scwy5hZEI",
        "outputId": "298ce8f8-6421-4bec-951c-129b04b5247d"
      },
      "source": [
        "c.columns"
      ],
      "execution_count": 105,
      "outputs": [
        {
          "output_type": "execute_result",
          "data": {
            "text/plain": [
              "Index(['cement', 'blast_furnace_slag', 'fly_ash', 'water', 'superplasticizer',\n",
              "       'coarse_aggregate', 'fine_aggregate ', 'age',\n",
              "       'concrete_compressive_strength'],\n",
              "      dtype='object')"
            ]
          },
          "metadata": {
            "tags": []
          },
          "execution_count": 105
        }
      ]
    },
    {
      "cell_type": "code",
      "metadata": {
        "id": "_0AXw4qzhNWx"
      },
      "source": [
        "X = c[['cement', 'blast_furnace_slag', 'fly_ash', 'water', 'superplasticizer',\n",
        "       'coarse_aggregate', 'fine_aggregate ', 'age']]\n",
        "y = c['concrete_compressive_strength']       "
      ],
      "execution_count": 106,
      "outputs": []
    },
    {
      "cell_type": "code",
      "metadata": {
        "id": "bUxAbDH4qhl3"
      },
      "source": [
        "mms = MinMaxScaler()"
      ],
      "execution_count": 107,
      "outputs": []
    },
    {
      "cell_type": "code",
      "metadata": {
        "id": "JLIdOUpRqamV"
      },
      "source": [
        "X = mms.fit_transform(X)"
      ],
      "execution_count": 108,
      "outputs": []
    },
    {
      "cell_type": "code",
      "metadata": {
        "colab": {
          "base_uri": "https://localhost:8080/"
        },
        "id": "Yhh1DYBuhvzN",
        "outputId": "ba310801-4055-44b0-a1c6-cbc7a8f532ce"
      },
      "source": [
        "X_train,X_test,y_train,y_test = train_test_split(X,y, test_size=0.20)\n",
        "X_train\n"
      ],
      "execution_count": 115,
      "outputs": [
        {
          "output_type": "execute_result",
          "data": {
            "text/plain": [
              "array([[0.42077626, 0.5589872 , 0.        , ..., 0.59186047, 0.52609132,\n",
              "        0.00549451],\n",
              "       [0.33835616, 0.46410684, 0.        , ..., 0.51337209, 0.25112895,\n",
              "        0.00549451],\n",
              "       [0.20159817, 0.        , 0.62568716, ..., 0.83459302, 0.52333166,\n",
              "        0.27197802],\n",
              "       ...,\n",
              "       [0.15273973, 0.11741792, 0.62118941, ..., 0.81337209, 0.50727546,\n",
              "        0.07417582],\n",
              "       [0.63926941, 0.        , 0.        , ..., 0.71511628, 0.36377321,\n",
              "        0.07417582],\n",
              "       [0.12054795, 0.51029494, 0.        , ..., 0.22151163, 0.68665329,\n",
              "        0.07417582]])"
            ]
          },
          "metadata": {
            "tags": []
          },
          "execution_count": 115
        }
      ]
    },
    {
      "cell_type": "code",
      "metadata": {
        "id": "8fOSSRAtkizy"
      },
      "source": [
        "rgr = RandomForestRegressor()\n"
      ],
      "execution_count": 94,
      "outputs": []
    },
    {
      "cell_type": "code",
      "metadata": {
        "colab": {
          "base_uri": "https://localhost:8080/"
        },
        "id": "OjXe_Dy8lIci",
        "outputId": "efab8fcd-46e1-47f7-b09d-1f71753d977b"
      },
      "source": [
        "model = rgr.fit(X_train, y_train)\n",
        "model"
      ],
      "execution_count": 127,
      "outputs": [
        {
          "output_type": "execute_result",
          "data": {
            "text/plain": [
              "RandomForestRegressor(bootstrap=True, ccp_alpha=0.0, criterion='mse',\n",
              "                      max_depth=None, max_features='auto', max_leaf_nodes=None,\n",
              "                      max_samples=None, min_impurity_decrease=0.0,\n",
              "                      min_impurity_split=None, min_samples_leaf=1,\n",
              "                      min_samples_split=2, min_weight_fraction_leaf=0.0,\n",
              "                      n_estimators=100, n_jobs=None, oob_score=False,\n",
              "                      random_state=None, verbose=0, warm_start=False)"
            ]
          },
          "metadata": {
            "tags": []
          },
          "execution_count": 127
        }
      ]
    },
    {
      "cell_type": "code",
      "metadata": {
        "colab": {
          "base_uri": "https://localhost:8080/"
        },
        "id": "0c2ngHHkl0RE",
        "outputId": "5a4eb7fc-d933-40ce-ad1d-c96815b0c7f3"
      },
      "source": [
        "n_estimators= [int(x) for x in np.linspace(start=300, stop = 2000, num = 10)]\n",
        "\n",
        "max_features=['auto', 'sqrt', 'log2']\n",
        "\n",
        "max_depth = [int(x) for x in np.linspace(10, 1000, 10)]\n",
        "\n",
        "min_samples_split=[2, 5, 10, 14]\n",
        "\n",
        "min_samples_leaf=[1, 2, 4, 6, 8]\n",
        "\n",
        "random_grid = {'n_estimators': n_estimators,\n",
        "               'max_features':max_features,\n",
        "                'max_depth':max_depth,\n",
        "                'min_samples_split':min_samples_split,\n",
        "                 'min_samples_leaf':min_samples_leaf,\n",
        "                 }\n",
        "print(random_grid)\n"
      ],
      "execution_count": 60,
      "outputs": [
        {
          "output_type": "stream",
          "text": [
            "{'n_estimators': [300, 488, 677, 866, 1055, 1244, 1433, 1622, 1811, 2000], 'max_features': ['auto', 'sqrt', 'log2'], 'max_depth': [10, 120, 230, 340, 450, 560, 670, 780, 890, 1000], 'min_samples_split': [2, 5, 10, 14], 'min_samples_leaf': [1, 2, 4, 6, 8]}\n"
          ],
          "name": "stdout"
        }
      ]
    },
    {
      "cell_type": "code",
      "metadata": {
        "colab": {
          "base_uri": "https://localhost:8080/"
        },
        "id": "e2BQxNGLmCZf",
        "outputId": "a1de77f1-a639-4510-8a8e-a96bf23a2158"
      },
      "source": [
        "rsv = RandomizedSearchCV(estimator=rgr,param_distributions=random_grid, n_iter=50, cv = 3, random_state=100)\n",
        "rsv.fit(X_train,y_train)"
      ],
      "execution_count": 62,
      "outputs": [
        {
          "output_type": "execute_result",
          "data": {
            "text/plain": [
              "RandomizedSearchCV(cv=3, error_score=nan,\n",
              "                   estimator=RandomForestRegressor(bootstrap=True,\n",
              "                                                   ccp_alpha=0.0,\n",
              "                                                   criterion='mse',\n",
              "                                                   max_depth=None,\n",
              "                                                   max_features='auto',\n",
              "                                                   max_leaf_nodes=None,\n",
              "                                                   max_samples=None,\n",
              "                                                   min_impurity_decrease=0.0,\n",
              "                                                   min_impurity_split=None,\n",
              "                                                   min_samples_leaf=1,\n",
              "                                                   min_samples_split=2,\n",
              "                                                   min_weight_fraction_leaf=0.0,\n",
              "                                                   n_estimators=100,\n",
              "                                                   n_jobs=None, oob_score=Fals...\n",
              "                   iid='deprecated', n_iter=50, n_jobs=None,\n",
              "                   param_distributions={'max_depth': [10, 120, 230, 340, 450,\n",
              "                                                      560, 670, 780, 890,\n",
              "                                                      1000],\n",
              "                                        'max_features': ['auto', 'sqrt',\n",
              "                                                         'log2'],\n",
              "                                        'min_samples_leaf': [1, 2, 4, 6, 8],\n",
              "                                        'min_samples_split': [2, 5, 10, 14],\n",
              "                                        'n_estimators': [300, 488, 677, 866,\n",
              "                                                         1055, 1244, 1433, 1622,\n",
              "                                                         1811, 2000]},\n",
              "                   pre_dispatch='2*n_jobs', random_state=100, refit=True,\n",
              "                   return_train_score=False, scoring=None, verbose=0)"
            ]
          },
          "metadata": {
            "tags": []
          },
          "execution_count": 62
        }
      ]
    },
    {
      "cell_type": "code",
      "metadata": {
        "colab": {
          "base_uri": "https://localhost:8080/"
        },
        "id": "c89efp9envBK",
        "outputId": "4d5c7ed3-961f-4bf7-a042-9f080a917120"
      },
      "source": [
        "rsv.best_params_"
      ],
      "execution_count": 63,
      "outputs": [
        {
          "output_type": "execute_result",
          "data": {
            "text/plain": [
              "{'max_depth': 10,\n",
              " 'max_features': 'auto',\n",
              " 'min_samples_leaf': 1,\n",
              " 'min_samples_split': 2,\n",
              " 'n_estimators': 677}"
            ]
          },
          "metadata": {
            "tags": []
          },
          "execution_count": 63
        }
      ]
    },
    {
      "cell_type": "code",
      "metadata": {
        "colab": {
          "base_uri": "https://localhost:8080/"
        },
        "id": "E90diEtHoCX_",
        "outputId": "3756465b-3835-49dd-a8d9-4846ed1797c3"
      },
      "source": [
        "rfr = RandomForestRegressor(n_estimators=677, max_depth=10, max_features='auto' )\n",
        "model_1 = rfr.fit(X_train,y_train)\n",
        "print(model_1.score(X_train,y_train))\n",
        "print(model_1.score(X_test,y_test))"
      ],
      "execution_count": 135,
      "outputs": [
        {
          "output_type": "stream",
          "text": [
            "0.9802233611482232\n",
            "0.8874208191657627\n"
          ],
          "name": "stdout"
        }
      ]
    },
    {
      "cell_type": "code",
      "metadata": {
        "colab": {
          "base_uri": "https://localhost:8080/"
        },
        "id": "_R7oFHbuu1wh",
        "outputId": "0528e27d-cd40-471e-fd14-edeb46ffb4a2"
      },
      "source": [
        "predictions = model_1.predict(X_test)\n",
        "print(predictions)\n"
      ],
      "execution_count": 137,
      "outputs": [
        {
          "output_type": "stream",
          "text": [
            "[42.0085307   8.90754741 47.00520172 59.55920415 32.10840467 18.05490542\n",
            " 33.326832   22.57117269 47.78778419 15.03940014 27.29638183 31.06023313\n",
            " 51.87178311 14.8267589  11.58860036 35.63325634 57.09487193 15.10116894\n",
            " 37.90941142 40.85150537 22.97288597 51.76155586 48.4040623  71.08492132\n",
            " 21.44532836 24.29350223 45.10570792 33.26770661 66.23264112 34.65858661\n",
            " 43.28972218 33.13108805 26.77899253 17.09905029 66.19497037 44.82982969\n",
            " 41.02654917 36.92352812 54.31959963 26.0350793  65.3486555  55.31509008\n",
            "  9.7797358  39.29359175 67.38391922 72.47863285 70.69468371 63.84445062\n",
            " 37.11373974 59.55920415 26.6173345   9.96763602 44.70986822 17.04984552\n",
            " 38.3996288  47.95629844 21.22284859 60.63834253 19.76544077 36.45104535\n",
            " 17.8961973  77.20447513 34.0611155  68.71049625 79.14198417 32.10127503\n",
            " 14.17117206 39.37757416 39.99746122 37.3437604  24.10451697 44.37797814\n",
            " 29.31195904 38.48866973 36.43243276 28.66290804 51.34198591 35.21701083\n",
            " 14.33310333 40.81563284 35.45968641 54.11744094 59.79902425 61.10896904\n",
            " 47.55973033 31.65845739 10.70783304 28.14525458 16.83038389 31.81877646\n",
            " 41.5312439  62.39911113 34.55822935 25.42959042 42.24592655 41.00289203\n",
            " 61.05200086 42.93198093 33.62804063 42.94596549 30.58628808 57.67940195\n",
            " 60.81938464 65.04347123 42.16678855 40.87786717 53.43276033 25.91119642\n",
            " 61.44166072 43.90169622 23.80880933 16.23308423 26.9039643  26.63806672\n",
            " 15.79801555 53.3996425  35.42511411 53.89490189 44.24817027 39.11276462\n",
            " 34.04435377 51.38235436 39.20334779 18.08347676 25.51657465 29.3678018\n",
            " 35.5860995  33.13312319 49.20014647 65.07697252 54.17988651 39.85944389\n",
            " 41.03762001 45.32272672 25.04392319 42.47097105 12.43465725 37.95079196\n",
            " 13.39117471 39.06729099 22.96589289 34.63645255 33.44494481 33.9870076\n",
            " 28.62921892 41.44649793 35.42676116 16.23303813 36.15984991 37.6381525\n",
            " 37.24815841 29.75277263 60.26739265 31.87153129 70.72843446 33.90396883\n",
            " 35.11677055 27.29638183 50.0727928  38.40506601 49.65449357 23.76980836\n",
            " 36.02148956 48.08822411 36.393427   16.33693703 40.96214155  9.26819278\n",
            " 56.43529502 64.30375993 35.45884265 45.77248308 34.11686965 11.03058186\n",
            " 29.0946581  50.42724464 49.18548655 14.33589103 39.87036868 44.90722916\n",
            " 13.03807765 42.5825221  32.61358042 12.94092832 30.97846271 24.58105571\n",
            " 12.90977647 17.22277364 48.0855741  36.78220066 18.73845098 22.3974511\n",
            " 60.04849268 26.63385451 15.91645391 14.39295662 19.77292032 16.98159443\n",
            " 70.31858221 42.54826861 37.86995351 62.7994125  48.78737417 34.30009576\n",
            " 25.1787228  31.22520668]\n"
          ],
          "name": "stdout"
        }
      ]
    }
  ]
}